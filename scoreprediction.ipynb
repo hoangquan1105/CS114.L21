{
  "nbformat": 4,
  "nbformat_minor": 0,
  "metadata": {
    "colab": {
      "name": "scoreprediction.ipynb",
      "provenance": [],
      "collapsed_sections": [],
      "authorship_tag": "ABX9TyMXAq0B/U2PWsADAdmNC0pr",
      "include_colab_link": true
    },
    "kernelspec": {
      "name": "python3",
      "display_name": "Python 3"
    },
    "language_info": {
      "name": "python"
    }
  },
  "cells": [
    {
      "cell_type": "markdown",
      "metadata": {
        "id": "view-in-github",
        "colab_type": "text"
      },
      "source": [
        "<a href=\"https://colab.research.google.com/github/hoangquan1105/CS114.L21/blob/master/scoreprediction.ipynb\" target=\"_parent\"><img src=\"https://colab.research.google.com/assets/colab-badge.svg\" alt=\"Open In Colab\"/></a>"
      ]
    },
    {
      "cell_type": "code",
      "metadata": {
        "id": "rg-_pHh7HO0V"
      },
      "source": [
        "import pandas as pd\n",
        "import numpy as np\n"
      ],
      "execution_count": 2,
      "outputs": []
    },
    {
      "cell_type": "code",
      "metadata": {
        "id": "_Zief2ceYBhx"
      },
      "source": [
        "import sqlite3\n",
        "\n",
        "conn = sqlite3.connect('Driver={SQL Server};'\n",
        "                      'Server=RON\\SQLEXPRESS;'\n",
        "                      'Database=TestDB;'\n",
        "                      'Trusted_Connection=yes;')\n",
        "cursor = conn.cursor()"
      ],
      "execution_count": 3,
      "outputs": []
    },
    {
      "cell_type": "code",
      "metadata": {
        "id": "S2EgzAE9KUqe"
      },
      "source": [
        "score=pd.read_excel('./score_training.xlsx')\n",
        "score.head()"
      ],
      "execution_count": null,
      "outputs": []
    },
    {
      "cell_type": "code",
      "metadata": {
        "id": "m92EQ3NENK_X"
      },
      "source": [
        "wecode=pd.read_excel('./wecode.xlsx')\n",
        "wecode.head()"
      ],
      "execution_count": null,
      "outputs": []
    },
    {
      "cell_type": "code",
      "metadata": {
        "id": "3jUp0JQjOLIv"
      },
      "source": [
        "wecode.describe()\n",
        "wecode.to_sql('WECODE', conn, if_exists='replace', index=False)"
      ],
      "execution_count": 6,
      "outputs": []
    },
    {
      "cell_type": "code",
      "metadata": {
        "id": "rz6ms6GsYZF1"
      },
      "source": [
        "cur = conn.cursor()\n",
        "# Fetch and display result\n",
        "  ## tổng problem của từng người\n",
        "for row in cur.execute('SELECT user_id, COUNT(DISTINCT problem_id) AS sum_problem FROM wecode GROUP BY user_id'):\n",
        "    print(row)"
      ],
      "execution_count": null,
      "outputs": []
    },
    {
      "cell_type": "code",
      "metadata": {
        "id": "-TZa3XhXb8kr"
      },
      "source": [
        "  ## số test sai của từng người(chưa full điểm và Error)\n",
        "for row in cur.execute('SELECT user_id, COUNT(*) AS sum_wrong_test FROM wecode WHERE pre_score < 10000 GROUP BY user_id'):\n",
        "    print(row)"
      ],
      "execution_count": null,
      "outputs": []
    },
    {
      "cell_type": "code",
      "metadata": {
        "id": "4tTHV_Ggc1OV"
      },
      "source": [
        "  ## số test đúng của từng người\n",
        "for row in cur.execute('SELECT user_id, COUNT(*) AS sum_wrong_test FROM wecode WHERE pre_score = 10000 GROUP BY user_id'):\n",
        "    print(row)"
      ],
      "execution_count": null,
      "outputs": []
    },
    {
      "cell_type": "code",
      "metadata": {
        "id": "z_2SuYf8Bjga"
      },
      "source": [
        "  ## số test bị lỗi (Compilation Error) của từng người\n",
        "for row in cur.execute('SELECT user_id, COUNT(*) AS sum_error_test FROM wecode WHERE (status = \"Compilation Error\" OR status = \"Error\") GROUP BY user_id'):\n",
        "    print(row)"
      ],
      "execution_count": null,
      "outputs": []
    },
    {
      "cell_type": "code",
      "metadata": {
        "id": "X6mgpTlvDUAf"
      },
      "source": [
        "  ## trung bình 1 problem thì mỗi sinh viên nộp bao nhiêu bài test\n",
        "for row in cur.execute('SELECT user_id, AVG(sum_test) FROM (SELECT user_id, assignment_id, problem_id, COUNT(*) AS sum_test FROM wecode GROUP BY user_id, problem_id, assignment_id) GROUP BY user_id'):\n",
        "    print(row)\n"
      ],
      "execution_count": null,
      "outputs": []
    },
    {
      "cell_type": "code",
      "metadata": {
        "id": "-tSpbusZz6xW"
      },
      "source": [
        "  ## điểm số trung bình của những bài test được nộp cuối cùng(những bài test dc lấy điểm chấm cuối cùng)\n",
        "for row in cur.execute('SELECT user_id, AVG(pre_score) FROM wecode WHERE is_final = 1 GROUP BY user_id'):\n",
        "    print(row)"
      ],
      "execution_count": null,
      "outputs": []
    }
  ]
}